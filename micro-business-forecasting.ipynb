{
 "cells": [
  {
   "cell_type": "code",
   "execution_count": 1,
   "id": "a189b42a",
   "metadata": {
    "_cell_guid": "b1076dfc-b9ad-4769-8c92-a6c4dae69d19",
    "_uuid": "8f2839f25d086af736a60e9eeb907d3b93b6e0e5",
    "execution": {
     "iopub.execute_input": "2023-03-14T06:21:01.620558Z",
     "iopub.status.busy": "2023-03-14T06:21:01.619460Z",
     "iopub.status.idle": "2023-03-14T06:21:01.744224Z",
     "shell.execute_reply": "2023-03-14T06:21:01.742830Z"
    },
    "papermill": {
     "duration": 0.135733,
     "end_time": "2023-03-14T06:21:01.747117",
     "exception": false,
     "start_time": "2023-03-14T06:21:01.611384",
     "status": "completed"
    },
    "tags": []
   },
   "outputs": [],
   "source": [
    "import gc\n",
    "import numpy as np\n",
    "import pandas as pd\n",
    "import os\n",
    "from tqdm.notebook import tqdm\n",
    "BASE = '../input/godaddy-microbusiness-density-forecasting/'\n",
    "\n",
    "# error calculation function smape\n",
    "def smape(y_true, y_pred):\n",
    "    smap = np.zeros(len(y_true))\n",
    "    \n",
    "    num = np.abs(y_true - y_pred)\n",
    "    dem = ((np.abs(y_true) + np.abs(y_pred)) / 2)\n",
    "    \n",
    "    pos_ind = (y_true!=0)|(y_pred!=0)\n",
    "    smap[pos_ind] = num[pos_ind] / dem[pos_ind]\n",
    "    \n",
    "    return 100 * np.mean(smap)\n",
    "\n",
    "# error vector calculation function\n",
    "def vsmape(y_true, y_pred):\n",
    "    smap = np.zeros(len(y_true))\n",
    "    \n",
    "    num = np.abs(y_true - y_pred)\n",
    "    dem = ((np.abs(y_true) + np.abs(y_pred)) / 2)\n",
    "    \n",
    "    pos_ind = (y_true!=0)|(y_pred!=0)\n",
    "    smap[pos_ind] = num[pos_ind] / dem[pos_ind]\n",
    "    \n",
    "    return 100 * smap"
   ]
  },
  {
   "cell_type": "code",
   "execution_count": 2,
   "id": "81d2e27d",
   "metadata": {
    "execution": {
     "iopub.execute_input": "2023-03-14T06:21:01.764209Z",
     "iopub.status.busy": "2023-03-14T06:21:01.763664Z",
     "iopub.status.idle": "2023-03-14T06:21:02.681219Z",
     "shell.execute_reply": "2023-03-14T06:21:02.679843Z"
    },
    "papermill": {
     "duration": 0.929674,
     "end_time": "2023-03-14T06:21:02.683670",
     "exception": false,
     "start_time": "2023-03-14T06:21:01.753996",
     "status": "completed"
    },
    "tags": []
   },
   "outputs": [
    {
     "name": "stdout",
     "output_type": "stream",
     "text": [
      "(128535, 8) (18810, 3) (25080, 2)\n"
     ]
    }
   ],
   "source": [
    "# loading data\n",
    "census = pd.read_csv(BASE + 'census_starter.csv')\n",
    "train = pd.read_csv(BASE + 'train.csv')\n",
    "sub = pd.read_csv(BASE + 'sample_submission.csv')\n",
    "# loading additional data\n",
    "reaveal_test = pd.read_csv(BASE + 'revealed_test.csv')\n",
    "# attaching additional data\n",
    "train = pd.concat([train, reaveal_test]).sort_values(by=['cfips','first_day_of_month']).reset_index()\n",
    "test = pd.read_csv(BASE + 'test.csv')\n",
    "drop_index = (test.first_day_of_month == '2022-11-01') | (test.first_day_of_month == '2022-12-01')\n",
    "test = test.loc[~drop_index,:]\n",
    "# loading geodata\n",
    "coords = pd.read_csv(\"/kaggle/input/usa-counties-coordinates/cfips_location.csv\")\n",
    "print(train.shape, test.shape, sub.shape)\n",
    "# data aggregation\n",
    "train['istest'] = 0\n",
    "test['istest'] = 1\n",
    "raw = pd.concat((train, test)).sort_values(['cfips','row_id']).reset_index(drop=True)\n",
    "raw = raw.merge(coords.drop(\"name\", axis=1), on=\"cfips\")\n",
    "# creating new columns\n",
    "raw['state_i1'] = raw['state'].astype('category')\n",
    "raw['county_i1'] = raw['county'].astype('category')\n",
    "raw['first_day_of_month'] = pd.to_datetime(raw[\"first_day_of_month\"])\n",
    "raw['county'] = raw.groupby('cfips')['county'].ffill()\n",
    "raw['state'] = raw.groupby('cfips')['state'].ffill()\n",
    "raw[\"dcount\"] = raw.groupby(['cfips'])['row_id'].cumcount()\n",
    "raw['county_i'] = (raw['county'] + raw['state']).factorize()[0]\n",
    "raw['state_i'] = raw['state'].factorize()[0]\n",
    "raw['scale'] = (raw['first_day_of_month'] - raw['first_day_of_month'].min()).dt.days\n",
    "raw['scale'] = raw['scale'].factorize()[0]\n",
    "# use GPU\n",
    "os.environ[\"CUDA_VISIBLE_DEVICES\"]=\"0\"\n"
   ]
  },
  {
   "cell_type": "code",
   "execution_count": 3,
   "id": "bc958428",
   "metadata": {
    "execution": {
     "iopub.execute_input": "2023-03-14T06:21:02.712399Z",
     "iopub.status.busy": "2023-03-14T06:21:02.712023Z",
     "iopub.status.idle": "2023-03-14T06:21:08.310530Z",
     "shell.execute_reply": "2023-03-14T06:21:08.309324Z"
    },
    "papermill": {
     "duration": 5.609131,
     "end_time": "2023-03-14T06:21:08.313202",
     "exception": false,
     "start_time": "2023-03-14T06:21:02.704071",
     "status": "completed"
    },
    "scrolled": true,
    "tags": []
   },
   "outputs": [
    {
     "data": {
      "application/vnd.jupyter.widget-view+json": {
       "model_id": "969267cf38074ebdbe1cf3638b5eb527",
       "version_major": 2,
       "version_minor": 0
      },
      "text/plain": [
       "  0%|          | 0/3135 [00:00<?, ?it/s]"
      ]
     },
     "metadata": {},
     "output_type": "display_data"
    }
   ],
   "source": [
    "for o in tqdm(raw.cfips.unique()): \n",
    "    indices = (raw['cfips'] == o) \n",
    "    tmp = raw.loc[indices].copy().reset_index(drop=True)\n",
    "    var = tmp.microbusiness_density.values.copy()\n",
    "    for i in range(37, 2, -1):\n",
    "        thr = 0.10 * np.mean(var[:i]) \n",
    "        difa = var[i] - var[i - 1] \n",
    "        if (difa >= thr) or (difa <= -thr):              \n",
    "            if difa > 0:\n",
    "                var[:i] += difa - 0.003 \n",
    "            else:\n",
    "                var[:i] += difa + 0.003  \n",
    "    var[0] = var[1] * 0.99\n",
    "    raw.loc[indices, 'microbusiness_density'] = var\n"
   ]
  },
  {
   "cell_type": "code",
   "execution_count": 4,
   "id": "7173dfeb",
   "metadata": {
    "execution": {
     "iopub.execute_input": "2023-03-14T06:21:08.328865Z",
     "iopub.status.busy": "2023-03-14T06:21:08.328538Z",
     "iopub.status.idle": "2023-03-14T06:21:08.554997Z",
     "shell.execute_reply": "2023-03-14T06:21:08.553672Z"
    },
    "papermill": {
     "duration": 0.236832,
     "end_time": "2023-03-14T06:21:08.557084",
     "exception": false,
     "start_time": "2023-03-14T06:21:08.320252",
     "status": "completed"
    },
    "tags": []
   },
   "outputs": [
    {
     "data": {
      "text/plain": [
       "<AxesSubplot:xlabel='dcount'>"
      ]
     },
     "execution_count": 4,
     "metadata": {},
     "output_type": "execute_result"
    },
    {
     "data": {
      "image/png": "[encoded data removed]",
      "text/plain": [
       "<Figure size 432x288 with 1 Axes>"
      ]
     },
     "metadata": {
      "needs_background": "light"
     },
     "output_type": "display_data"
    }
   ],
   "source": [
    "lag = 1\n",
    "raw[f'mbd_lag_{lag}'] = raw.groupby('cfips')['microbusiness_density'].shift(lag).bfill()\n",
    "raw['dif'] = (raw['microbusiness_density'] / raw[f'mbd_lag_{lag}']).fillna(1).clip(0, None) - 1\n",
    "raw.loc[(raw[f'mbd_lag_{lag}']==0), 'dif'] = 0\n",
    "raw.loc[(raw[f'microbusiness_density']>0) & (raw[f'mbd_lag_{lag}']==0), 'dif'] = 1\n",
    "raw['dif'] = raw['dif'].abs()\n",
    "raw.groupby('dcount')['dif'].sum().plot()"
   ]
  },
  {
   "cell_type": "code",
   "execution_count": 5,
   "id": "e85862e9",
   "metadata": {
    "execution": {
     "iopub.execute_input": "2023-03-14T06:21:08.590725Z",
     "iopub.status.busy": "2023-03-14T06:21:08.590377Z",
     "iopub.status.idle": "2023-03-14T06:21:08.604524Z",
     "shell.execute_reply": "2023-03-14T06:21:08.603182Z"
    },
    "papermill": {
     "duration": 0.025185,
     "end_time": "2023-03-14T06:21:08.606838",
     "exception": false,
     "start_time": "2023-03-14T06:21:08.581653",
     "status": "completed"
    },
    "scrolled": true,
    "tags": []
   },
   "outputs": [],
   "source": [
    "raw['target'] = raw.groupby('cfips')['microbusiness_density'].shift(-1)\n",
    "raw['target'] = raw['target']/raw['microbusiness_density'] - 1\n",
    "\n",
    "\n",
    "raw.loc[raw['cfips']==28055, 'target'] = 0.0\n",
    "raw.loc[raw['cfips']==48269, 'target'] = 0.0"
   ]
  },
  {
   "cell_type": "code",
   "execution_count": 6,
   "id": "d32e4814",
   "metadata": {
    "execution": {
     "iopub.execute_input": "2023-03-14T06:21:08.623968Z",
     "iopub.status.busy": "2023-03-14T06:21:08.622897Z",
     "iopub.status.idle": "2023-03-14T06:21:08.835987Z",
     "shell.execute_reply": "2023-03-14T06:21:08.835420Z"
    },
    "papermill": {
     "duration": 0.223357,
     "end_time": "2023-03-14T06:21:08.837674",
     "exception": false,
     "start_time": "2023-03-14T06:21:08.614317",
     "status": "completed"
    },
    "tags": []
   },
   "outputs": [
    {
     "data": {
      "text/plain": [
       "<AxesSubplot:>"
      ]
     },
     "execution_count": 6,
     "metadata": {},
     "output_type": "execute_result"
    },
    {
     "data": {
      "image/png": "[encoded data removed]",
      "text/plain": [
       "<Figure size 432x288 with 1 Axes>"
      ]
     },
     "metadata": {
      "needs_background": "light"
     },
     "output_type": "display_data"
    }
   ],
   "source": [
    "raw['lastactive'] = raw.groupby('cfips')['active'].transform('last')\n",
    "\n",
    "dt = raw.loc[raw.dcount==40].groupby('cfips')['microbusiness_density'].agg('last')\n",
    "raw['lastactive'].clip(0, 8000).hist(bins=30)"
   ]
  },
  {
   "cell_type": "markdown",
   "id": "61414dc3",
   "metadata": {
    "papermill": {
     "duration": 0.007383,
     "end_time": "2023-03-14T06:21:08.852788",
     "exception": false,
     "start_time": "2023-03-14T06:21:08.845405",
     "status": "completed"
    },
    "tags": []
   },
   "source": [
    "# Feature Engineering\n",
    "> Try tuning this part"
   ]
  },
  {
   "cell_type": "code",
   "execution_count": 7,
   "id": "b2029d59",
   "metadata": {
    "execution": {
     "iopub.execute_input": "2023-03-14T06:21:08.870400Z",
     "iopub.status.busy": "2023-03-14T06:21:08.869179Z",
     "iopub.status.idle": "2023-03-14T06:21:08.879554Z",
     "shell.execute_reply": "2023-03-14T06:21:08.878600Z"
    },
    "papermill": {
     "duration": 0.021195,
     "end_time": "2023-03-14T06:21:08.881609",
     "exception": false,
     "start_time": "2023-03-14T06:21:08.860414",
     "status": "completed"
    },
    "tags": []
   },
   "outputs": [],
   "source": [
    "def build_features(raw, target='microbusiness_density', target_act='active_tmp', lags = 6):\n",
    "    feats = []   \n",
    "\n",
    "    for lag in range(1, lags):\n",
    "        raw[f'mbd_lag_{lag}'] = raw.groupby('cfips')[target].shift(lag)\n",
    "        raw[f'act_lag_{lag}'] = raw.groupby('cfips')[target_act].diff(lag)\n",
    "        feats.append(f'mbd_lag_{lag}')\n",
    "        feats.append(f'act_lag_{lag}')\n",
    "        \n",
    "    lag = 1\n",
    "    for window in [2, 4, 6, 8, 10]:\n",
    "        raw[f'mbd_rollmea{window}_{lag}'] = raw.groupby('cfips')[f'mbd_lag_{lag}'].transform(lambda s: s.rolling(window, min_periods=1).sum())        \n",
    "        feats.append(f'mbd_rollmea{window}_{lag}')\n",
    "    \n",
    "    census_columns = list(census.columns)\n",
    "    census_columns.remove( \"cfips\")\n",
    "    \n",
    "    raw = raw.merge(census, on=\"cfips\", how=\"left\")\n",
    "    feats += census_columns\n",
    "    # loading additional data\n",
    "    co_est = pd.read_csv(\"/kaggle/input/us-indicator/co-est2021-alldata.csv\", encoding='latin-1')\n",
    "    co_est[\"cfips\"] = co_est.STATE*1000 + co_est.COUNTY\n",
    "    co_columns = [\n",
    "        'SUMLEV',\n",
    "        'DIVISION',\n",
    "        'ESTIMATESBASE2020',\n",
    "        'POPESTIMATE2020',\n",
    "        'POPESTIMATE2021',\n",
    "        'NPOPCHG2020',\n",
    "        'NPOPCHG2021',\n",
    "        'BIRTHS2020',\n",
    "        'BIRTHS2021',\n",
    "        'DEATHS2020',\n",
    "        'DEATHS2021',\n",
    "        'NATURALCHG2020',\n",
    "        'NATURALCHG2021',\n",
    "        'INTERNATIONALMIG2020',\n",
    "        'INTERNATIONALMIG2021',\n",
    "        'DOMESTICMIG2020',\n",
    "        'DOMESTICMIG2021',\n",
    "        'NETMIG2020',\n",
    "        'NETMIG2021',\n",
    "        'RESIDUAL2020',\n",
    "        'RESIDUAL2021',\n",
    "        'GQESTIMATESBASE2020',\n",
    "        'GQESTIMATES2020',\n",
    "        'GQESTIMATES2021',\n",
    "        'RBIRTH2021',\n",
    "        'RDEATH2021',\n",
    "        'RNATURALCHG2021',\n",
    "        'RINTERNATIONALMIG2021',\n",
    "        'RDOMESTICMIG2021',\n",
    "        'RNETMIG2021'\n",
    "    ]\n",
    "    raw = raw.merge(co_est, on=\"cfips\", how=\"left\")\n",
    "    feats +=  co_columns\n",
    "    return raw, feats"
   ]
  },
  {
   "cell_type": "code",
   "execution_count": 8,
   "id": "37e71b34",
   "metadata": {
    "execution": {
     "iopub.execute_input": "2023-03-14T06:21:08.899400Z",
     "iopub.status.busy": "2023-03-14T06:21:08.898295Z",
     "iopub.status.idle": "2023-03-14T06:21:17.074560Z",
     "shell.execute_reply": "2023-03-14T06:21:17.073321Z"
    },
    "papermill": {
     "duration": 8.18792,
     "end_time": "2023-03-14T06:21:17.077201",
     "exception": false,
     "start_time": "2023-03-14T06:21:08.889281",
     "status": "completed"
    },
    "scrolled": true,
    "tags": []
   },
   "outputs": [
    {
     "name": "stdout",
     "output_type": "stream",
     "text": [
      "['state_i', 'mbd_lag_1', 'act_lag_1', 'mbd_lag_2', 'act_lag_2', 'mbd_lag_3', 'act_lag_3', 'mbd_lag_4', 'act_lag_4', 'mbd_lag_5', 'act_lag_5', 'mbd_lag_6', 'act_lag_6', 'mbd_lag_7', 'act_lag_7', 'mbd_lag_8', 'act_lag_8', 'mbd_rollmea2_1', 'mbd_rollmea4_1', 'mbd_rollmea6_1', 'mbd_rollmea8_1', 'mbd_rollmea10_1', 'pct_bb_2017', 'pct_bb_2018', 'pct_bb_2019', 'pct_bb_2020', 'pct_bb_2021', 'pct_college_2017', 'pct_college_2018', 'pct_college_2019', 'pct_college_2020', 'pct_college_2021', 'pct_foreign_born_2017', 'pct_foreign_born_2018', 'pct_foreign_born_2019', 'pct_foreign_born_2020', 'pct_foreign_born_2021', 'pct_it_workers_2017', 'pct_it_workers_2018', 'pct_it_workers_2019', 'pct_it_workers_2020', 'pct_it_workers_2021', 'median_hh_inc_2017', 'median_hh_inc_2018', 'median_hh_inc_2019', 'median_hh_inc_2020', 'median_hh_inc_2021', 'SUMLEV', 'DIVISION', 'ESTIMATESBASE2020', 'POPESTIMATE2020', 'POPESTIMATE2021', 'NPOPCHG2020', 'NPOPCHG2021', 'BIRTHS2020', 'BIRTHS2021', 'DEATHS2020', 'DEATHS2021', 'NATURALCHG2020', 'NATURALCHG2021', 'INTERNATIONALMIG2020', 'INTERNATIONALMIG2021', 'DOMESTICMIG2020', 'DOMESTICMIG2021', 'NETMIG2020', 'NETMIG2021', 'RESIDUAL2020', 'RESIDUAL2021', 'GQESTIMATESBASE2020', 'GQESTIMATES2020', 'GQESTIMATES2021', 'RBIRTH2021', 'RDEATH2021', 'RNATURALCHG2021', 'RINTERNATIONALMIG2021', 'RDOMESTICMIG2021', 'RNETMIG2021', 'lng', 'lat', 'scale']\n"
     ]
    },
    {
     "data": {
      "text/html": [
       "<div>\n",
       "<style scoped>\n",
       "    .dataframe tbody tr th:only-of-type {\n",
       "        vertical-align: middle;\n",
       "    }\n",
       "\n",
       "    .dataframe tbody tr th {\n",
       "        vertical-align: top;\n",
       "    }\n",
       "\n",
       "    .dataframe thead th {\n",
       "        text-align: right;\n",
       "    }\n",
       "</style>\n",
       "<table border=\"1\" class=\"dataframe\">\n",
       "  <thead>\n",
       "    <tr style=\"text-align: right;\">\n",
       "      <th></th>\n",
       "      <th>state_i</th>\n",
       "      <th>mbd_lag_1</th>\n",
       "      <th>act_lag_1</th>\n",
       "      <th>mbd_lag_2</th>\n",
       "      <th>act_lag_2</th>\n",
       "      <th>mbd_lag_3</th>\n",
       "      <th>act_lag_3</th>\n",
       "      <th>mbd_lag_4</th>\n",
       "      <th>act_lag_4</th>\n",
       "      <th>mbd_lag_5</th>\n",
       "      <th>...</th>\n",
       "      <th>GQESTIMATES2021</th>\n",
       "      <th>RBIRTH2021</th>\n",
       "      <th>RDEATH2021</th>\n",
       "      <th>RNATURALCHG2021</th>\n",
       "      <th>RINTERNATIONALMIG2021</th>\n",
       "      <th>RDOMESTICMIG2021</th>\n",
       "      <th>RNETMIG2021</th>\n",
       "      <th>lng</th>\n",
       "      <th>lat</th>\n",
       "      <th>scale</th>\n",
       "    </tr>\n",
       "  </thead>\n",
       "  <tbody>\n",
       "    <tr>\n",
       "      <th>40</th>\n",
       "      <td>0</td>\n",
       "      <td>0.008202</td>\n",
       "      <td>12.0</td>\n",
       "      <td>-0.006114</td>\n",
       "      <td>3.0</td>\n",
       "      <td>0.006152</td>\n",
       "      <td>12.0</td>\n",
       "      <td>0.005498</td>\n",
       "      <td>20.0</td>\n",
       "      <td>-0.004107</td>\n",
       "      <td>...</td>\n",
       "      <td>442</td>\n",
       "      <td>11.002611</td>\n",
       "      <td>11.545112</td>\n",
       "      <td>-0.542502</td>\n",
       "      <td>0.084766</td>\n",
       "      <td>4.017903</td>\n",
       "      <td>4.102668</td>\n",
       "      <td>-86.642900</td>\n",
       "      <td>32.535142</td>\n",
       "      <td>40</td>\n",
       "    </tr>\n",
       "    <tr>\n",
       "      <th>87</th>\n",
       "      <td>0</td>\n",
       "      <td>-0.000848</td>\n",
       "      <td>-12.0</td>\n",
       "      <td>-0.012221</td>\n",
       "      <td>-187.0</td>\n",
       "      <td>0.002170</td>\n",
       "      <td>-156.0</td>\n",
       "      <td>-0.017601</td>\n",
       "      <td>-412.0</td>\n",
       "      <td>-0.009601</td>\n",
       "      <td>...</td>\n",
       "      <td>2177</td>\n",
       "      <td>9.567474</td>\n",
       "      <td>12.137145</td>\n",
       "      <td>-2.569671</td>\n",
       "      <td>0.266704</td>\n",
       "      <td>28.702422</td>\n",
       "      <td>28.969126</td>\n",
       "      <td>-87.722745</td>\n",
       "      <td>30.727825</td>\n",
       "      <td>40</td>\n",
       "    </tr>\n",
       "    <tr>\n",
       "      <th>134</th>\n",
       "      <td>0</td>\n",
       "      <td>0.004049</td>\n",
       "      <td>1.0</td>\n",
       "      <td>0.012295</td>\n",
       "      <td>4.0</td>\n",
       "      <td>0.020921</td>\n",
       "      <td>9.0</td>\n",
       "      <td>0.008439</td>\n",
       "      <td>11.0</td>\n",
       "      <td>-0.016597</td>\n",
       "      <td>...</td>\n",
       "      <td>2789</td>\n",
       "      <td>10.928526</td>\n",
       "      <td>15.714742</td>\n",
       "      <td>-4.786216</td>\n",
       "      <td>0.039885</td>\n",
       "      <td>-3.908743</td>\n",
       "      <td>-3.868858</td>\n",
       "      <td>-85.391068</td>\n",
       "      <td>31.870090</td>\n",
       "      <td>40</td>\n",
       "    </tr>\n",
       "    <tr>\n",
       "      <th>181</th>\n",
       "      <td>0</td>\n",
       "      <td>0.008811</td>\n",
       "      <td>2.0</td>\n",
       "      <td>-0.008734</td>\n",
       "      <td>0.0</td>\n",
       "      <td>-0.021367</td>\n",
       "      <td>-5.0</td>\n",
       "      <td>0.017391</td>\n",
       "      <td>-1.0</td>\n",
       "      <td>-0.025424</td>\n",
       "      <td>...</td>\n",
       "      <td>2062</td>\n",
       "      <td>10.111857</td>\n",
       "      <td>12.617450</td>\n",
       "      <td>-2.505593</td>\n",
       "      <td>0.089485</td>\n",
       "      <td>13.825503</td>\n",
       "      <td>13.914989</td>\n",
       "      <td>-87.126814</td>\n",
       "      <td>32.998376</td>\n",
       "      <td>40</td>\n",
       "    </tr>\n",
       "    <tr>\n",
       "      <th>228</th>\n",
       "      <td>0</td>\n",
       "      <td>0.008589</td>\n",
       "      <td>7.0</td>\n",
       "      <td>0.002460</td>\n",
       "      <td>9.0</td>\n",
       "      <td>-0.010949</td>\n",
       "      <td>0.0</td>\n",
       "      <td>0.008589</td>\n",
       "      <td>7.0</td>\n",
       "      <td>0.002460</td>\n",
       "      <td>...</td>\n",
       "      <td>449</td>\n",
       "      <td>10.650006</td>\n",
       "      <td>13.883950</td>\n",
       "      <td>-3.233945</td>\n",
       "      <td>0.033863</td>\n",
       "      <td>2.370431</td>\n",
       "      <td>2.404294</td>\n",
       "      <td>-86.567006</td>\n",
       "      <td>33.980871</td>\n",
       "      <td>40</td>\n",
       "    </tr>\n",
       "    <tr>\n",
       "      <th>275</th>\n",
       "      <td>0</td>\n",
       "      <td>0.012500</td>\n",
       "      <td>1.0</td>\n",
       "      <td>0.025641</td>\n",
       "      <td>3.0</td>\n",
       "      <td>0.012987</td>\n",
       "      <td>4.0</td>\n",
       "      <td>0.013158</td>\n",
       "      <td>5.0</td>\n",
       "      <td>0.013333</td>\n",
       "      <td>...</td>\n",
       "      <td>1725</td>\n",
       "      <td>12.603616</td>\n",
       "      <td>12.506665</td>\n",
       "      <td>0.096951</td>\n",
       "      <td>0.096951</td>\n",
       "      <td>0.678656</td>\n",
       "      <td>0.775607</td>\n",
       "      <td>-85.715729</td>\n",
       "      <td>32.100459</td>\n",
       "      <td>40</td>\n",
       "    </tr>\n",
       "    <tr>\n",
       "      <th>322</th>\n",
       "      <td>0</td>\n",
       "      <td>0.005970</td>\n",
       "      <td>2.0</td>\n",
       "      <td>0.000000</td>\n",
       "      <td>2.0</td>\n",
       "      <td>0.009036</td>\n",
       "      <td>5.0</td>\n",
       "      <td>0.027864</td>\n",
       "      <td>14.0</td>\n",
       "      <td>0.031949</td>\n",
       "      <td>...</td>\n",
       "      <td>241</td>\n",
       "      <td>11.284242</td>\n",
       "      <td>15.555380</td>\n",
       "      <td>-4.271138</td>\n",
       "      <td>0.158190</td>\n",
       "      <td>-4.376598</td>\n",
       "      <td>-4.218408</td>\n",
       "      <td>-86.680409</td>\n",
       "      <td>31.752524</td>\n",
       "      <td>40</td>\n",
       "    </tr>\n",
       "    <tr>\n",
       "      <th>369</th>\n",
       "      <td>0</td>\n",
       "      <td>0.002808</td>\n",
       "      <td>7.0</td>\n",
       "      <td>-0.005981</td>\n",
       "      <td>-8.0</td>\n",
       "      <td>-0.003180</td>\n",
       "      <td>-16.0</td>\n",
       "      <td>0.007609</td>\n",
       "      <td>3.0</td>\n",
       "      <td>0.002006</td>\n",
       "      <td>...</td>\n",
       "      <td>3251</td>\n",
       "      <td>11.367649</td>\n",
       "      <td>14.743496</td>\n",
       "      <td>-3.375847</td>\n",
       "      <td>0.034447</td>\n",
       "      <td>0.602830</td>\n",
       "      <td>0.637277</td>\n",
       "      <td>-85.825747</td>\n",
       "      <td>33.771415</td>\n",
       "      <td>40</td>\n",
       "    </tr>\n",
       "    <tr>\n",
       "      <th>416</th>\n",
       "      <td>0</td>\n",
       "      <td>0.002571</td>\n",
       "      <td>1.0</td>\n",
       "      <td>0.018325</td>\n",
       "      <td>8.0</td>\n",
       "      <td>-0.040201</td>\n",
       "      <td>-8.0</td>\n",
       "      <td>-0.012407</td>\n",
       "      <td>-13.0</td>\n",
       "      <td>-0.017073</td>\n",
       "      <td>...</td>\n",
       "      <td>449</td>\n",
       "      <td>10.286193</td>\n",
       "      <td>14.793626</td>\n",
       "      <td>-4.507433</td>\n",
       "      <td>0.606770</td>\n",
       "      <td>-0.231150</td>\n",
       "      <td>0.375619</td>\n",
       "      <td>-85.391689</td>\n",
       "      <td>32.913666</td>\n",
       "      <td>40</td>\n",
       "    </tr>\n",
       "    <tr>\n",
       "      <th>463</th>\n",
       "      <td>0</td>\n",
       "      <td>0.008368</td>\n",
       "      <td>2.0</td>\n",
       "      <td>0.017021</td>\n",
       "      <td>6.0</td>\n",
       "      <td>-0.012605</td>\n",
       "      <td>3.0</td>\n",
       "      <td>0.000000</td>\n",
       "      <td>3.0</td>\n",
       "      <td>-0.008333</td>\n",
       "      <td>...</td>\n",
       "      <td>181</td>\n",
       "      <td>9.528766</td>\n",
       "      <td>18.937422</td>\n",
       "      <td>-9.408656</td>\n",
       "      <td>0.040037</td>\n",
       "      <td>10.849982</td>\n",
       "      <td>10.890019</td>\n",
       "      <td>-85.603871</td>\n",
       "      <td>34.175887</td>\n",
       "      <td>40</td>\n",
       "    </tr>\n",
       "  </tbody>\n",
       "</table>\n",
       "<p>10 rows × 80 columns</p>\n",
       "</div>"
      ],
      "text/plain": [
       "     state_i  mbd_lag_1  act_lag_1  mbd_lag_2  act_lag_2  mbd_lag_3  \\\n",
       "40         0   0.008202       12.0  -0.006114        3.0   0.006152   \n",
       "87         0  -0.000848      -12.0  -0.012221     -187.0   0.002170   \n",
       "134        0   0.004049        1.0   0.012295        4.0   0.020921   \n",
       "181        0   0.008811        2.0  -0.008734        0.0  -0.021367   \n",
       "228        0   0.008589        7.0   0.002460        9.0  -0.010949   \n",
       "275        0   0.012500        1.0   0.025641        3.0   0.012987   \n",
       "322        0   0.005970        2.0   0.000000        2.0   0.009036   \n",
       "369        0   0.002808        7.0  -0.005981       -8.0  -0.003180   \n",
       "416        0   0.002571        1.0   0.018325        8.0  -0.040201   \n",
       "463        0   0.008368        2.0   0.017021        6.0  -0.012605   \n",
       "\n",
       "     act_lag_3  mbd_lag_4  act_lag_4  mbd_lag_5  ...  GQESTIMATES2021  \\\n",
       "40        12.0   0.005498       20.0  -0.004107  ...              442   \n",
       "87      -156.0  -0.017601     -412.0  -0.009601  ...             2177   \n",
       "134        9.0   0.008439       11.0  -0.016597  ...             2789   \n",
       "181       -5.0   0.017391       -1.0  -0.025424  ...             2062   \n",
       "228        0.0   0.008589        7.0   0.002460  ...              449   \n",
       "275        4.0   0.013158        5.0   0.013333  ...             1725   \n",
       "322        5.0   0.027864       14.0   0.031949  ...              241   \n",
       "369      -16.0   0.007609        3.0   0.002006  ...             3251   \n",
       "416       -8.0  -0.012407      -13.0  -0.017073  ...              449   \n",
       "463        3.0   0.000000        3.0  -0.008333  ...              181   \n",
       "\n",
       "     RBIRTH2021  RDEATH2021  RNATURALCHG2021  RINTERNATIONALMIG2021  \\\n",
       "40    11.002611   11.545112        -0.542502               0.084766   \n",
       "87     9.567474   12.137145        -2.569671               0.266704   \n",
       "134   10.928526   15.714742        -4.786216               0.039885   \n",
       "181   10.111857   12.617450        -2.505593               0.089485   \n",
       "228   10.650006   13.883950        -3.233945               0.033863   \n",
       "275   12.603616   12.506665         0.096951               0.096951   \n",
       "322   11.284242   15.555380        -4.271138               0.158190   \n",
       "369   11.367649   14.743496        -3.375847               0.034447   \n",
       "416   10.286193   14.793626        -4.507433               0.606770   \n",
       "463    9.528766   18.937422        -9.408656               0.040037   \n",
       "\n",
       "     RDOMESTICMIG2021  RNETMIG2021        lng        lat  scale  \n",
       "40           4.017903     4.102668 -86.642900  32.535142     40  \n",
       "87          28.702422    28.969126 -87.722745  30.727825     40  \n",
       "134         -3.908743    -3.868858 -85.391068  31.870090     40  \n",
       "181         13.825503    13.914989 -87.126814  32.998376     40  \n",
       "228          2.370431     2.404294 -86.567006  33.980871     40  \n",
       "275          0.678656     0.775607 -85.715729  32.100459     40  \n",
       "322         -4.376598    -4.218408 -86.680409  31.752524     40  \n",
       "369          0.602830     0.637277 -85.825747  33.771415     40  \n",
       "416         -0.231150     0.375619 -85.391689  32.913666     40  \n",
       "463         10.849982    10.890019 -85.603871  34.175887     40  \n",
       "\n",
       "[10 rows x 80 columns]"
      ]
     },
     "execution_count": 8,
     "metadata": {},
     "output_type": "execute_result"
    }
   ],
   "source": [
    "# Build Features based in lag of target\n",
    "raw, feats = build_features(raw, 'target', 'active', lags = 9)\n",
    "features = ['state_i'] # state number \n",
    "features += feats\n",
    "features += ['lng','lat','scale'] # geodata coordinates and day number\n",
    "print(features)\n",
    "raw.loc[raw.dcount==40, features].head(10)"
   ]
  },
  {
   "cell_type": "markdown",
   "id": "0651e916",
   "metadata": {
    "papermill": {
     "duration": 0.008023,
     "end_time": "2023-03-14T06:21:17.093562",
     "exception": false,
     "start_time": "2023-03-14T06:21:17.085539",
     "status": "completed"
    },
    "tags": []
   },
   "source": [
    "Latitude and Longitude feature engineering from samu2505."
   ]
  },
  {
   "cell_type": "code",
   "execution_count": 9,
   "id": "c69132ed",
   "metadata": {
    "execution": {
     "iopub.execute_input": "2023-03-14T06:21:17.111518Z",
     "iopub.status.busy": "2023-03-14T06:21:17.111196Z",
     "iopub.status.idle": "2023-03-14T06:21:17.175634Z",
     "shell.execute_reply": "2023-03-14T06:21:17.173892Z"
    },
    "papermill": {
     "duration": 0.076376,
     "end_time": "2023-03-14T06:21:17.178096",
     "exception": false,
     "start_time": "2023-03-14T06:21:17.101720",
     "status": "completed"
    },
    "tags": []
   },
   "outputs": [],
   "source": [
    "# geodata processing\n",
    "coordinates = raw[['lng', 'lat']].values\n",
    "\n",
    "# Encoding tricks\n",
    "emb_size = 20\n",
    "precision = 1e6\n",
    "\n",
    "latlon = np.expand_dims(coordinates, axis=-1)\n",
    "\n",
    "m = np.exp(np.log(precision)/emb_size)\n",
    "angle_freq = m ** np.arange(emb_size)\n",
    "angle_freq = angle_freq.reshape(1,1, emb_size)\n",
    "latlon = latlon * angle_freq\n",
    "latlon[..., 0::2] = np.cos(latlon[..., 0::2])"
   ]
  },
  {
   "cell_type": "code",
   "execution_count": 10,
   "id": "d351e130",
   "metadata": {
    "execution": {
     "iopub.execute_input": "2023-03-14T06:21:17.195795Z",
     "iopub.status.busy": "2023-03-14T06:21:17.195397Z",
     "iopub.status.idle": "2023-03-14T06:21:17.209682Z",
     "shell.execute_reply": "2023-03-14T06:21:17.208051Z"
    },
    "papermill": {
     "duration": 0.025487,
     "end_time": "2023-03-14T06:21:17.211824",
     "exception": false,
     "start_time": "2023-03-14T06:21:17.186337",
     "status": "completed"
    },
    "tags": []
   },
   "outputs": [],
   "source": [
    "def rot(df):\n",
    "    for angle in [15, 30, 45]:\n",
    "        df[f'rot_{angle}_x'] = (np.cos(np.radians(angle)) * df['lat']) + \\\n",
    "                                (np.sin(np.radians(angle)) * df['lng'])\n",
    "        \n",
    "        df[f'rot_{angle}_y'] = (np.cos(np.radians(angle)) * df['lat']) - \\\n",
    "                                (np.sin(np.radians(angle)) * df['lng'])\n",
    "        \n",
    "    return df\n",
    "\n",
    "raw = rot(raw)"
   ]
  },
  {
   "cell_type": "code",
   "execution_count": 11,
   "id": "84cc07a7",
   "metadata": {
    "execution": {
     "iopub.execute_input": "2023-03-14T06:21:17.229655Z",
     "iopub.status.busy": "2023-03-14T06:21:17.229334Z",
     "iopub.status.idle": "2023-03-14T06:21:17.234692Z",
     "shell.execute_reply": "2023-03-14T06:21:17.232824Z"
    },
    "papermill": {
     "duration": 0.017491,
     "end_time": "2023-03-14T06:21:17.237392",
     "exception": false,
     "start_time": "2023-03-14T06:21:17.219901",
     "status": "completed"
    },
    "tags": []
   },
   "outputs": [],
   "source": [
    "features += ['rot_15_x', 'rot_15_y', 'rot_30_x', 'rot_30_y', 'rot_45_x', 'rot_45_y']"
   ]
  },
  {
   "cell_type": "code",
   "execution_count": 12,
   "id": "20f9e532",
   "metadata": {
    "execution": {
     "iopub.execute_input": "2023-03-14T06:21:17.255396Z",
     "iopub.status.busy": "2023-03-14T06:21:17.255084Z",
     "iopub.status.idle": "2023-03-14T06:21:17.266695Z",
     "shell.execute_reply": "2023-03-14T06:21:17.265491Z"
    },
    "papermill": {
     "duration": 0.023112,
     "end_time": "2023-03-14T06:21:17.268695",
     "exception": false,
     "start_time": "2023-03-14T06:21:17.245583",
     "status": "completed"
    },
    "tags": []
   },
   "outputs": [],
   "source": [
    "def get_model():\n",
    "    from sklearn.ensemble import VotingRegressor\n",
    "    import lightgbm as lgb\n",
    "    import xgboost as xgb\n",
    "    import catboost as cat\n",
    "    from sklearn.pipeline import Pipeline\n",
    "    from sklearn.neighbors import KNeighborsRegressor\n",
    "    from sklearn.impute import KNNImputer    \n",
    "\n",
    "# we should decrease the num_iterations of catboost\n",
    "    cat_model = cat.CatBoostRegressor(\n",
    "        iterations=2000,\n",
    "        loss_function=\"MAPE\",\n",
    "        verbose=0,\n",
    "        grow_policy='SymmetricTree',\n",
    "        learning_rate=0.035,\n",
    "        colsample_bylevel=0.8,\n",
    "        max_depth=5,\n",
    "        l2_leaf_reg=0.2,\n",
    "        subsample=0.70,\n",
    "        max_bin=4096,\n",
    "    )\n",
    "\n",
    "    return cat_model\n",
    "\n",
    "\n",
    "def base_models():\n",
    "    from sklearn.ensemble import VotingRegressor\n",
    "    import lightgbm as lgb\n",
    "    import xgboost as xgb\n",
    "    import catboost as cat\n",
    "    from sklearn.pipeline import Pipeline\n",
    "    from sklearn.neighbors import KNeighborsRegressor\n",
    "    from sklearn.impute import KNNImputer    \n",
    "    \n",
    "    # LGBM model\n",
    "    params = {\n",
    "    'n_iter': 300,\n",
    "    'boosting_type': 'dart',\n",
    "    'verbosity': -1,\n",
    "    'objective': 'l1',\n",
    "    'random_state': 42,\n",
    "    'colsample_bytree': 0.8841279649367693,\n",
    "    'colsample_bynode': 0.10142964450634374,\n",
    "    'max_depth': 8,\n",
    "    'learning_rate': 0.003647749926797374,\n",
    "    'lambda_l2': 0.5,\n",
    "    'num_leaves': 61,\n",
    "    \"seed\": 42,\n",
    "    'min_data_in_leaf': 213}\n",
    "\n",
    "    lgb_model = lgb.LGBMRegressor(**params)\n",
    "    \n",
    "    xgb_model = xgb.XGBRegressor(\n",
    "    objective='reg:pseudohubererror',\n",
    "    tree_method=\"hist\",\n",
    "    n_estimators=795,\n",
    "    learning_rate=0.0075,\n",
    "    max_leaves = 17,\n",
    "    subsample=0.50,\n",
    "    colsample_bytree=0.50,\n",
    "    max_bin=4096,\n",
    "    n_jobs=2)\n",
    "\n",
    "    # we should decrease the num_iterations of catboost\n",
    "    cat_model = cat.CatBoostRegressor(\n",
    "        iterations=2500,\n",
    "        loss_function=\"MAPE\",\n",
    "        verbose=0,\n",
    "        grow_policy='SymmetricTree',\n",
    "        learning_rate=0.035,\n",
    "        colsample_bylevel=0.8,\n",
    "        max_depth=5,\n",
    "        l2_leaf_reg=0.2,\n",
    "        subsample=0.70,\n",
    "        max_bin=4096,\n",
    "    )\n",
    "    \n",
    "    models = {}\n",
    "    models['xgb'] = xgb_model\n",
    "    models['lgbm'] = lgb_model\n",
    "    models['cat'] = cat_model\n",
    "\n",
    "    return models"
   ]
  },
  {
   "cell_type": "code",
   "execution_count": 13,
   "id": "1a8f5d94",
   "metadata": {
    "execution": {
     "iopub.execute_input": "2023-03-14T06:21:17.286253Z",
     "iopub.status.busy": "2023-03-14T06:21:17.285932Z",
     "iopub.status.idle": "2023-03-14T06:21:17.290872Z",
     "shell.execute_reply": "2023-03-14T06:21:17.289522Z"
    },
    "papermill": {
     "duration": 0.016547,
     "end_time": "2023-03-14T06:21:17.293306",
     "exception": false,
     "start_time": "2023-03-14T06:21:17.276759",
     "status": "completed"
    },
    "tags": []
   },
   "outputs": [],
   "source": [
    "ACT_THR = 150\n",
    "MONTH_1 = 39\n",
    "MONTH_last = 40"
   ]
  },
  {
   "cell_type": "code",
   "execution_count": 14,
   "id": "0df1b2d0",
   "metadata": {
    "execution": {
     "iopub.execute_input": "2023-03-14T06:21:17.311999Z",
     "iopub.status.busy": "2023-03-14T06:21:17.311692Z",
     "iopub.status.idle": "2023-03-14T06:21:17.391010Z",
     "shell.execute_reply": "2023-03-14T06:21:17.390093Z"
    },
    "papermill": {
     "duration": 0.090788,
     "end_time": "2023-03-14T06:21:17.392860",
     "exception": false,
     "start_time": "2023-03-14T06:21:17.302072",
     "status": "completed"
    },
    "tags": []
   },
   "outputs": [
    {
     "data": {
      "text/plain": [
       "(128535, 107)"
      ]
     },
     "execution_count": 14,
     "metadata": {},
     "output_type": "execute_result"
    }
   ],
   "source": [
    "raw[raw.istest == 0].shape"
   ]
  },
  {
   "cell_type": "code",
   "execution_count": 15,
   "id": "55e83816",
   "metadata": {
    "execution": {
     "iopub.execute_input": "2023-03-14T06:21:17.412240Z",
     "iopub.status.busy": "2023-03-14T06:21:17.411885Z",
     "iopub.status.idle": "2023-03-14T06:25:10.604939Z",
     "shell.execute_reply": "2023-03-14T06:25:10.603602Z"
    },
    "papermill": {
     "duration": 233.21375,
     "end_time": "2023-03-14T06:25:10.615709",
     "exception": false,
     "start_time": "2023-03-14T06:21:17.401959",
     "status": "completed"
    },
    "tags": []
   },
   "outputs": [
    {
     "name": "stdout",
     "output_type": "stream",
     "text": [
      "TS: 39\n"
     ]
    },
    {
     "data": {
      "text/html": [
       "<style type='text/css'>\n",
       ".datatable table.frame { margin-bottom: 0; }\n",
       ".datatable table.frame thead { border-bottom: none; }\n",
       ".datatable table.frame tr.coltypes td {  color: #FFFFFF;  line-height: 6px;  padding: 0 0.5em;}\n",
       ".datatable .bool    { background: #DDDD99; }\n",
       ".datatable .object  { background: #565656; }\n",
       ".datatable .int     { background: #5D9E5D; }\n",
       ".datatable .float   { background: #4040CC; }\n",
       ".datatable .str     { background: #CC4040; }\n",
       ".datatable .time    { background: #40CC40; }\n",
       ".datatable .row_index {  background: var(--jp-border-color3);  border-right: 1px solid var(--jp-border-color0);  color: var(--jp-ui-font-color3);  font-size: 9px;}\n",
       ".datatable .frame tbody td { text-align: left; }\n",
       ".datatable .frame tr.coltypes .row_index {  background: var(--jp-border-color0);}\n",
       ".datatable th:nth-child(2) { padding-left: 12px; }\n",
       ".datatable .hellipsis {  color: var(--jp-cell-editor-border-color);}\n",
       ".datatable .vellipsis {  background: var(--jp-layout-color0);  color: var(--jp-cell-editor-border-color);}\n",
       ".datatable .na {  color: var(--jp-cell-editor-border-color);  font-size: 80%;}\n",
       ".datatable .sp {  opacity: 0.25;}\n",
       ".datatable .footer { font-size: 9px; }\n",
       ".datatable .frame_dimensions {  background: var(--jp-border-color3);  border-top: 1px solid var(--jp-border-color0);  color: var(--jp-ui-font-color3);  display: inline-block;  opacity: 0.6;  padding: 1px 10px 1px 5px;}\n",
       "</style>\n"
      ],
      "text/plain": [
       "<IPython.core.display.HTML object>"
      ]
     },
     "metadata": {},
     "output_type": "display_data"
    },
    {
     "name": "stderr",
     "output_type": "stream",
     "text": [
      "/opt/conda/lib/python3.7/site-packages/lightgbm/engine.py:177: UserWarning: Found `n_iter` in params. Will use it instead of argument\n",
      "  _log_warning(f\"Found `{alias}` in params. Will use it instead of argument\")\n"
     ]
    },
    {
     "name": "stdout",
     "output_type": "stream",
     "text": [
      "[LightGBM] [Warning] lambda_l2 is set=0.5, reg_lambda=0.0 will be ignored. Current value: lambda_l2=0.5\n",
      "[LightGBM] [Warning] min_data_in_leaf is set=213, min_child_samples=20 will be ignored. Current value: min_data_in_leaf=213\n",
      "[LightGBM] [Warning] seed is set=42, random_state=42 will be ignored. Current value: seed=42\n",
      "[LightGBM] [Warning] num_iterations is set=300, n_iter=300 will be ignored. Current value: num_iterations=300\n",
      "Last Value SMAPE: 1.889206717018118\n",
      "SMAPE: 1.8626317878552674\n",
      "\n",
      "SMAPE: 1.8626317878552674\n",
      "Last Value SMAPE: 1.889206717018118\n"
     ]
    }
   ],
   "source": [
    "raw['ypred_last'] = np.nan\n",
    "raw['ypred'] = np.nan\n",
    "raw['k'] = 1.\n",
    "raw['microbusiness_density'].fillna(0, inplace = True)\n",
    "\n",
    "for TS in range(MONTH_1, MONTH_last): \n",
    "    print(f'TS: {TS}')\n",
    "  \n",
    "    models = base_models()\n",
    "    model0 = models['xgb']\n",
    "    model1 = models['lgbm']\n",
    "    model2 = models['cat']\n",
    "            \n",
    "    train_indices = (raw.istest==0) & (raw.dcount  < TS) & (raw.dcount >= 1) & (raw.lastactive>ACT_THR) \n",
    "    valid_indices = (raw.istest==0) & (raw.dcount == TS) \n",
    "    \n",
    "    # Train each of the models on the current TS\n",
    "    model0.fit(\n",
    "        raw.loc[train_indices, features],\n",
    "        raw.loc[train_indices, 'target'].clip(-0.002, 0.006))\n",
    "    \n",
    "    model1.fit(\n",
    "        raw.loc[train_indices, features],\n",
    "        raw.loc[train_indices, 'target'].clip(-0.002, 0.006))\n",
    "    \n",
    "    model2.fit(\n",
    "        raw.loc[train_indices, features],\n",
    "        raw.loc[train_indices, 'target'].clip(-0.002, 0.006))\n",
    "    \n",
    "\n",
    "    tr_pred0 = model0.predict(raw.loc[train_indices, features])\n",
    "    tr_pred1 = model1.predict(raw.loc[train_indices, features])\n",
    "    tr_pred2 = model2.predict(raw.loc[train_indices, features])\n",
    "    train_preds = np.column_stack((tr_pred0, tr_pred1, tr_pred2))\n",
    "    \n",
    "    meta_model = get_model() \n",
    "    meta_model.fit(train_preds, raw.loc[train_indices, 'target'].clip(-0.002, 0.006))\n",
    "    \n",
    "    val_preds0 = model0.predict(raw.loc[valid_indices, features])\n",
    "    val_preds1 = model1.predict(raw.loc[valid_indices, features])\n",
    "    val_preds2 = model2.predict(raw.loc[valid_indices, features])\n",
    "    valid_preds = np.column_stack((val_preds0, val_preds1, val_preds2))\n",
    "    \n",
    "    ypred = meta_model.predict(valid_preds)\n",
    "    # get value 'microbusiness_density' from target\n",
    "    raw.loc[valid_indices, 'k'] = ypred + 1\n",
    "    raw.loc[valid_indices,'k'] = raw.loc[valid_indices,'k'] * raw.loc[valid_indices,'microbusiness_density']\n",
    "\n",
    "    # Validate\n",
    "    lastval = raw.loc[raw.dcount==TS, ['cfips', 'microbusiness_density']].set_index('cfips').to_dict()['microbusiness_density']\n",
    "    dt = raw.loc[raw.dcount==TS, ['cfips', 'k']].set_index('cfips').to_dict()['k']\n",
    "    \n",
    "    df = raw.loc[raw.dcount==(TS+1), \n",
    "                 ['cfips', 'microbusiness_density', 'state', 'lastactive', 'mbd_lag_1']].reset_index(drop=True)\n",
    "    df['pred'] = df['cfips'].map(dt)\n",
    "    df['lastval'] = df['cfips'].map(lastval)  \n",
    "    \n",
    "    df.loc[df['lastactive']<=ACT_THR, 'pred'] = df.loc[df['lastactive']<=ACT_THR, 'lastval']\n",
    "        \n",
    "    raw.loc[raw.dcount==(TS+1), 'ypred'] = df['pred'].values\n",
    "    raw.loc[raw.dcount==(TS+1), 'ypred_last'] = df['lastval'].values\n",
    "    \n",
    "    print('Last Value SMAPE:', smape(df['microbusiness_density'], df['lastval']) )\n",
    "    print('SMAPE:', smape(df['microbusiness_density'], df['pred']))\n",
    "    print()\n",
    "\n",
    "ind = (raw.dcount > MONTH_1)&(raw.dcount <= MONTH_last)\n",
    "\n",
    "print('SMAPE:', smape( raw.loc[ind, 'microbusiness_density'],  raw.loc[ind, 'ypred']))\n",
    "print('Last Value SMAPE:', smape( raw.loc[ind, 'microbusiness_density'],  raw.loc[ind, 'ypred_last']))"
   ]
  },
  {
   "cell_type": "code",
   "execution_count": 16,
   "id": "fd672d8a",
   "metadata": {
    "execution": {
     "iopub.execute_input": "2023-03-14T06:25:10.635606Z",
     "iopub.status.busy": "2023-03-14T06:25:10.635286Z",
     "iopub.status.idle": "2023-03-14T06:25:10.653575Z",
     "shell.execute_reply": "2023-03-14T06:25:10.652342Z"
    },
    "papermill": {
     "duration": 0.030518,
     "end_time": "2023-03-14T06:25:10.655795",
     "exception": false,
     "start_time": "2023-03-14T06:25:10.625277",
     "status": "completed"
    },
    "tags": []
   },
   "outputs": [
    {
     "data": {
      "text/html": [
       "<div>\n",
       "<style scoped>\n",
       "    .dataframe tbody tr th:only-of-type {\n",
       "        vertical-align: middle;\n",
       "    }\n",
       "\n",
       "    .dataframe tbody tr th {\n",
       "        vertical-align: top;\n",
       "    }\n",
       "\n",
       "    .dataframe thead th {\n",
       "        text-align: right;\n",
       "    }\n",
       "</style>\n",
       "<table border=\"1\" class=\"dataframe\">\n",
       "  <thead>\n",
       "    <tr style=\"text-align: right;\">\n",
       "      <th></th>\n",
       "      <th>index</th>\n",
       "      <th>row_id</th>\n",
       "      <th>cfips</th>\n",
       "      <th>county</th>\n",
       "      <th>state</th>\n",
       "      <th>first_day_of_month</th>\n",
       "      <th>microbusiness_density</th>\n",
       "      <th>active</th>\n",
       "      <th>istest</th>\n",
       "      <th>lng</th>\n",
       "      <th>...</th>\n",
       "      <th>RNETMIG2021</th>\n",
       "      <th>rot_15_x</th>\n",
       "      <th>rot_15_y</th>\n",
       "      <th>rot_30_x</th>\n",
       "      <th>rot_30_y</th>\n",
       "      <th>rot_45_x</th>\n",
       "      <th>rot_45_y</th>\n",
       "      <th>ypred_last</th>\n",
       "      <th>ypred</th>\n",
       "      <th>k</th>\n",
       "    </tr>\n",
       "  </thead>\n",
       "  <tbody>\n",
       "  </tbody>\n",
       "</table>\n",
       "<p>0 rows × 110 columns</p>\n",
       "</div>"
      ],
      "text/plain": [
       "Empty DataFrame\n",
       "Columns: [index, row_id, cfips, county, state, first_day_of_month, microbusiness_density, active, istest, lng, lat, state_i1, county_i1, dcount, county_i, state_i, scale, mbd_lag_1, dif, target, lastactive, act_lag_1, mbd_lag_2, act_lag_2, mbd_lag_3, act_lag_3, mbd_lag_4, act_lag_4, mbd_lag_5, act_lag_5, mbd_lag_6, act_lag_6, mbd_lag_7, act_lag_7, mbd_lag_8, act_lag_8, mbd_rollmea2_1, mbd_rollmea4_1, mbd_rollmea6_1, mbd_rollmea8_1, mbd_rollmea10_1, pct_bb_2017, pct_bb_2018, pct_bb_2019, pct_bb_2020, pct_bb_2021, pct_college_2017, pct_college_2018, pct_college_2019, pct_college_2020, pct_college_2021, pct_foreign_born_2017, pct_foreign_born_2018, pct_foreign_born_2019, pct_foreign_born_2020, pct_foreign_born_2021, pct_it_workers_2017, pct_it_workers_2018, pct_it_workers_2019, pct_it_workers_2020, pct_it_workers_2021, median_hh_inc_2017, median_hh_inc_2018, median_hh_inc_2019, median_hh_inc_2020, median_hh_inc_2021, SUMLEV, REGION, DIVISION, STATE, COUNTY, STNAME, CTYNAME, ESTIMATESBASE2020, POPESTIMATE2020, POPESTIMATE2021, NPOPCHG2020, NPOPCHG2021, BIRTHS2020, BIRTHS2021, DEATHS2020, DEATHS2021, NATURALCHG2020, NATURALCHG2021, INTERNATIONALMIG2020, INTERNATIONALMIG2021, DOMESTICMIG2020, DOMESTICMIG2021, NETMIG2020, NETMIG2021, RESIDUAL2020, RESIDUAL2021, GQESTIMATESBASE2020, GQESTIMATES2020, GQESTIMATES2021, RBIRTH2021, RDEATH2021, RNATURALCHG2021, RINTERNATIONALMIG2021, RDOMESTICMIG2021, ...]\n",
       "Index: []\n",
       "\n",
       "[0 rows x 110 columns]"
      ]
     },
     "execution_count": 16,
     "metadata": {},
     "output_type": "execute_result"
    }
   ],
   "source": [
    "raw[raw['microbusiness_density'].isnull()]"
   ]
  },
  {
   "cell_type": "code",
   "execution_count": 17,
   "id": "9ca438f1",
   "metadata": {
    "execution": {
     "iopub.execute_input": "2023-03-14T06:25:10.674884Z",
     "iopub.status.busy": "2023-03-14T06:25:10.674536Z",
     "iopub.status.idle": "2023-03-14T06:30:37.312808Z",
     "shell.execute_reply": "2023-03-14T06:30:37.311448Z"
    },
    "papermill": {
     "duration": 326.650545,
     "end_time": "2023-03-14T06:30:37.315113",
     "exception": false,
     "start_time": "2023-03-14T06:25:10.664568",
     "status": "completed"
    },
    "tags": []
   },
   "outputs": [
    {
     "name": "stdout",
     "output_type": "stream",
     "text": [
      "40\n"
     ]
    },
    {
     "name": "stderr",
     "output_type": "stream",
     "text": [
      "/opt/conda/lib/python3.7/site-packages/lightgbm/engine.py:177: UserWarning: Found `n_iter` in params. Will use it instead of argument\n",
      "  _log_warning(f\"Found `{alias}` in params. Will use it instead of argument\")\n"
     ]
    },
    {
     "name": "stdout",
     "output_type": "stream",
     "text": [
      "[LightGBM] [Warning] lambda_l2 is set=0.5, reg_lambda=0.0 will be ignored. Current value: lambda_l2=0.5\n",
      "[LightGBM] [Warning] min_data_in_leaf is set=213, min_child_samples=20 will be ignored. Current value: min_data_in_leaf=213\n",
      "[LightGBM] [Warning] seed is set=42, random_state=42 will be ignored. Current value: seed=42\n",
      "[LightGBM] [Warning] num_iterations is set=300, n_iter=300 will be ignored. Current value: num_iterations=300\n"
     ]
    }
   ],
   "source": [
    "TS = 40\n",
    "print(TS)\n",
    "\n",
    "model0 = get_model()\n",
    "\n",
    "train_indices = (raw.istest==0) & (raw.dcount  < TS) & (raw.dcount >= 1) & (raw.lastactive>ACT_THR) \n",
    "valid_indices = (raw.dcount == TS)\n",
    "\n",
    "model0.fit(\n",
    "        raw.loc[train_indices, features],\n",
    "        raw.loc[train_indices, 'target'].clip(-0.002, 0.006))\n",
    "    \n",
    "model1.fit(\n",
    "    raw.loc[train_indices, features],\n",
    "    raw.loc[train_indices, 'target'].clip(-0.002, 0.006))\n",
    "\n",
    "model2.fit(\n",
    "    raw.loc[train_indices, features],\n",
    "    raw.loc[train_indices, 'target'].clip(-0.002, 0.006))\n",
    "\n",
    "\n",
    "tr_pred0 = model0.predict(raw.loc[train_indices, features])\n",
    "tr_pred1 = model1.predict(raw.loc[train_indices, features])\n",
    "tr_pred2 = model2.predict(raw.loc[train_indices, features])\n",
    "train_preds = np.column_stack((tr_pred0, tr_pred1, tr_pred2))\n",
    "\n",
    "meta_model = get_model() \n",
    "meta_model.fit(train_preds, raw.loc[train_indices, 'target'].clip(-0.002, 0.006))\n",
    "\n",
    "val_preds0 = model0.predict(raw.loc[valid_indices, features])\n",
    "val_preds1 = model1.predict(raw.loc[valid_indices, features])\n",
    "val_preds2 = model2.predict(raw.loc[valid_indices, features])\n",
    "valid_preds = np.column_stack((val_preds0, val_preds1, val_preds2))\n",
    "\n",
    "ypred = meta_model.predict(valid_preds)\n",
    "\n",
    "# ypred = model0.predict(raw.loc[valid_indices, features])\n",
    "raw.loc[valid_indices, 'k'] = ypred + 1.\n",
    "raw.loc[valid_indices,'k'] = raw.loc[valid_indices,'k'] * raw.loc[valid_indices,'microbusiness_density']\n",
    "\n",
    "# Validate\n",
    "lastval = raw.loc[raw.dcount==TS, ['cfips', 'microbusiness_density']].set_index('cfips').to_dict()['microbusiness_density']\n",
    "dt = raw.loc[raw.dcount==TS, ['cfips', 'k']].set_index('cfips').to_dict()['k']"
   ]
  },
  {
   "cell_type": "code",
   "execution_count": 18,
   "id": "ad7e8d24",
   "metadata": {
    "execution": {
     "iopub.execute_input": "2023-03-14T06:30:37.334529Z",
     "iopub.status.busy": "2023-03-14T06:30:37.334191Z",
     "iopub.status.idle": "2023-03-14T06:30:37.344967Z",
     "shell.execute_reply": "2023-03-14T06:30:37.343447Z"
    },
    "papermill": {
     "duration": 0.023196,
     "end_time": "2023-03-14T06:30:37.347324",
     "exception": false,
     "start_time": "2023-03-14T06:30:37.324128",
     "status": "completed"
    },
    "tags": []
   },
   "outputs": [],
   "source": [
    "df = raw.loc[raw.dcount==(TS+1), ['cfips', 'microbusiness_density', 'state', 'lastactive', 'mbd_lag_1']].reset_index(drop=True)"
   ]
  },
  {
   "cell_type": "code",
   "execution_count": 19,
   "id": "e6db8125",
   "metadata": {
    "execution": {
     "iopub.execute_input": "2023-03-14T06:30:37.366905Z",
     "iopub.status.busy": "2023-03-14T06:30:37.366557Z",
     "iopub.status.idle": "2023-03-14T06:30:37.383629Z",
     "shell.execute_reply": "2023-03-14T06:30:37.382183Z"
    },
    "papermill": {
     "duration": 0.029482,
     "end_time": "2023-03-14T06:30:37.385888",
     "exception": false,
     "start_time": "2023-03-14T06:30:37.356406",
     "status": "completed"
    },
    "tags": []
   },
   "outputs": [],
   "source": [
    "df['pred'] = df['cfips'].map(dt)\n",
    "df['lastval'] = df['cfips'].map(lastval)\n",
    "\n",
    "df.loc[df['lastactive']<=ACT_THR, 'pred'] = df.loc[df['lastactive']<=ACT_THR, 'lastval']\n",
    "\n",
    "raw.loc[raw.dcount==(TS+1), 'ypred'] = df['pred'].values\n",
    "raw.loc[raw.dcount==(TS+1), 'ypred_last'] = df['lastval'].values"
   ]
  },
  {
   "cell_type": "code",
   "execution_count": 20,
   "id": "26482c2f",
   "metadata": {
    "execution": {
     "iopub.execute_input": "2023-03-14T06:30:37.405317Z",
     "iopub.status.busy": "2023-03-14T06:30:37.404970Z",
     "iopub.status.idle": "2023-03-14T06:30:37.415899Z",
     "shell.execute_reply": "2023-03-14T06:30:37.414341Z"
    },
    "papermill": {
     "duration": 0.023458,
     "end_time": "2023-03-14T06:30:37.418219",
     "exception": false,
     "start_time": "2023-03-14T06:30:37.394761",
     "status": "completed"
    },
    "tags": []
   },
   "outputs": [],
   "source": [
    "mask = (raw.lastactive > 150) & (raw.dcount==(TS+1))\n",
    "k = 0.1\n",
    "raw.loc[mask, 'ypred'] = k * 1.01 * raw.loc[mask, 'ypred_last'] + (1-k) * raw.loc[mask, 'ypred'] "
   ]
  },
  {
   "cell_type": "code",
   "execution_count": 21,
   "id": "1885971c",
   "metadata": {
    "execution": {
     "iopub.execute_input": "2023-03-14T06:30:37.437688Z",
     "iopub.status.busy": "2023-03-14T06:30:37.437369Z",
     "iopub.status.idle": "2023-03-14T06:30:37.445054Z",
     "shell.execute_reply": "2023-03-14T06:30:37.444000Z"
    },
    "papermill": {
     "duration": 0.019823,
     "end_time": "2023-03-14T06:30:37.447061",
     "exception": false,
     "start_time": "2023-03-14T06:30:37.427238",
     "status": "completed"
    },
    "scrolled": true,
    "tags": []
   },
   "outputs": [],
   "source": [
    "raw.loc[raw['cfips']==28055, 'microbusiness_density'] = 0\n",
    "raw.loc[raw['cfips']==48269, 'microbusiness_density'] = 1.762115"
   ]
  },
  {
   "cell_type": "code",
   "execution_count": 22,
   "id": "dc3f3978",
   "metadata": {
    "execution": {
     "iopub.execute_input": "2023-03-14T06:30:37.466492Z",
     "iopub.status.busy": "2023-03-14T06:30:37.466190Z",
     "iopub.status.idle": "2023-03-14T06:30:38.222696Z",
     "shell.execute_reply": "2023-03-14T06:30:38.221354Z"
    },
    "papermill": {
     "duration": 0.769819,
     "end_time": "2023-03-14T06:30:38.225944",
     "exception": false,
     "start_time": "2023-03-14T06:30:37.456125",
     "status": "completed"
    },
    "tags": []
   },
   "outputs": [],
   "source": [
    "COLS = ['GEO_ID','NAME','S0101_C01_026E']\n",
    "df2020 = pd.read_csv('/kaggle/input/census-data-for-godaddy/ACSST5Y2020.S0101-Data.csv', usecols=COLS, dtype = 'object')\n",
    "df2021 = pd.read_csv('/kaggle/input/census-data-for-godaddy/ACSST5Y2021.S0101-Data.csv',usecols=COLS, dtype = 'object')\n",
    "\n",
    "df2020 = df2020.iloc[1:]\n",
    "df2020 = df2020.astype({'S0101_C01_026E':'int'})\n",
    "\n",
    "df2021 = df2021.iloc[1:]\n",
    "df2021 = df2021.astype({'S0101_C01_026E':'int'})\n",
    "\n",
    "df2020['cfips'] = df2020.GEO_ID.apply(lambda x: int(x.split('US')[-1]))\n",
    "adult2020 = df2020.set_index('cfips').S0101_C01_026E.to_dict()\n",
    "\n",
    "df2021['cfips'] = df2021.GEO_ID.apply(lambda x: int(x.split('US')[-1]))\n",
    "adult2021 = df2021.set_index('cfips').S0101_C01_026E.to_dict()\n",
    "\n",
    "df2020['mnoshitel'] = df2020['S0101_C01_026E'] / df2021['S0101_C01_026E']\n",
    "\n",
    "df2020 = df2020[['cfips','mnoshitel']]\n",
    "df2020.set_index('cfips', inplace=True)"
   ]
  },
  {
   "cell_type": "code",
   "execution_count": 23,
   "id": "d93b5c52",
   "metadata": {
    "execution": {
     "iopub.execute_input": "2023-03-14T06:30:38.246394Z",
     "iopub.status.busy": "2023-03-14T06:30:38.245981Z",
     "iopub.status.idle": "2023-03-14T06:30:38.374060Z",
     "shell.execute_reply": "2023-03-14T06:30:38.373079Z"
    },
    "papermill": {
     "duration": 0.141234,
     "end_time": "2023-03-14T06:30:38.376528",
     "exception": false,
     "start_time": "2023-03-14T06:30:38.235294",
     "status": "completed"
    },
    "tags": []
   },
   "outputs": [],
   "source": [
    "raw = raw.join(df2020, on='cfips')\n",
    "maska = (raw[\"first_day_of_month\"]=='2023-01-01')\n",
    "raw.loc[maska, 'microbusiness_density'] = raw.loc[maska, 'ypred'] * raw.loc[maska, 'mnoshitel']\n",
    "raw.drop(columns = 'mnoshitel' , inplace = True)"
   ]
  },
  {
   "cell_type": "code",
   "execution_count": 24,
   "id": "bae9b7e7",
   "metadata": {
    "execution": {
     "iopub.execute_input": "2023-03-14T06:30:38.395689Z",
     "iopub.status.busy": "2023-03-14T06:30:38.395352Z",
     "iopub.status.idle": "2023-03-14T06:30:38.478878Z",
     "shell.execute_reply": "2023-03-14T06:30:38.477511Z"
    },
    "papermill": {
     "duration": 0.09591,
     "end_time": "2023-03-14T06:30:38.481405",
     "exception": false,
     "start_time": "2023-03-14T06:30:38.385495",
     "status": "completed"
    },
    "tags": []
   },
   "outputs": [],
   "source": [
    "test = raw[raw.first_day_of_month >= '2022-11-01'].copy()\n",
    "test = test[['row_id', 'cfips', 'microbusiness_density']]\n",
    "test = test[['row_id', 'microbusiness_density']]\n",
    "test.to_csv('submission.csv', index=False)"
   ]
  },
  {
   "cell_type": "code",
   "execution_count": 25,
   "id": "eb89cbf8",
   "metadata": {
    "execution": {
     "iopub.execute_input": "2023-03-14T06:30:38.500970Z",
     "iopub.status.busy": "2023-03-14T06:30:38.500621Z",
     "iopub.status.idle": "2023-03-14T06:30:43.239270Z",
     "shell.execute_reply": "2023-03-14T06:30:43.238121Z"
    },
    "papermill": {
     "duration": 4.75069,
     "end_time": "2023-03-14T06:30:43.241200",
     "exception": false,
     "start_time": "2023-03-14T06:30:38.490510",
     "status": "completed"
    },
    "tags": []
   },
   "outputs": [
    {
     "data": {
      "text/html": [
       "<div>\n",
       "<style scoped>\n",
       "    .dataframe tbody tr th:only-of-type {\n",
       "        vertical-align: middle;\n",
       "    }\n",
       "\n",
       "    .dataframe tbody tr th {\n",
       "        vertical-align: top;\n",
       "    }\n",
       "\n",
       "    .dataframe thead th {\n",
       "        text-align: right;\n",
       "    }\n",
       "</style>\n",
       "<table border=\"1\" class=\"dataframe\">\n",
       "  <thead>\n",
       "    <tr style=\"text-align: right;\">\n",
       "      <th></th>\n",
       "      <th>row_id</th>\n",
       "      <th>microbusiness_density</th>\n",
       "    </tr>\n",
       "  </thead>\n",
       "  <tbody>\n",
       "    <tr>\n",
       "      <th>39</th>\n",
       "      <td>1001_2022-11-01</td>\n",
       "      <td>3.405280</td>\n",
       "    </tr>\n",
       "    <tr>\n",
       "      <th>40</th>\n",
       "      <td>1001_2022-12-01</td>\n",
       "      <td>3.423634</td>\n",
       "    </tr>\n",
       "    <tr>\n",
       "      <th>41</th>\n",
       "      <td>1001_2023-01-01</td>\n",
       "      <td>3.337904</td>\n",
       "    </tr>\n",
       "    <tr>\n",
       "      <th>42</th>\n",
       "      <td>1001_2023-02-01</td>\n",
       "      <td>1.167540</td>\n",
       "    </tr>\n",
       "    <tr>\n",
       "      <th>43</th>\n",
       "      <td>1001_2023-03-01</td>\n",
       "      <td>1.167540</td>\n",
       "    </tr>\n",
       "  </tbody>\n",
       "</table>\n",
       "</div>"
      ],
      "text/plain": [
       "             row_id  microbusiness_density\n",
       "39  1001_2022-11-01               3.405280\n",
       "40  1001_2022-12-01               3.423634\n",
       "41  1001_2023-01-01               3.337904\n",
       "42  1001_2023-02-01               1.167540\n",
       "43  1001_2023-03-01               1.167540"
      ]
     },
     "execution_count": 25,
     "metadata": {},
     "output_type": "execute_result"
    }
   ],
   "source": [
    "sub = pd.read_csv(\"/kaggle/input/godaddy-lb-13803/submission.csv\")\n",
    "for i, row in sub.iterrows():\n",
    "    test.iat[i,1] = (\n",
    "        0.65*test.iat[i,1] +\n",
    "        0.35*row[\"microbusiness_density\"]\n",
    "    )\n",
    "test.to_csv('submission1.csv', index=False)\n",
    "test.head()"
   ]
  },
  {
   "cell_type": "code",
   "execution_count": 26,
   "id": "6a90cf6e",
   "metadata": {
    "execution": {
     "iopub.execute_input": "2023-03-14T06:30:43.261714Z",
     "iopub.status.busy": "2023-03-14T06:30:43.260854Z",
     "iopub.status.idle": "2023-03-14T06:30:43.462301Z",
     "shell.execute_reply": "2023-03-14T06:30:43.460848Z"
    },
    "papermill": {
     "duration": 0.214215,
     "end_time": "2023-03-14T06:30:43.464664",
     "exception": false,
     "start_time": "2023-03-14T06:30:43.250449",
     "status": "completed"
    },
    "tags": []
   },
   "outputs": [
    {
     "name": "stderr",
     "output_type": "stream",
     "text": [
      "/opt/conda/lib/python3.7/site-packages/IPython/core/interactiveshell.py:3552: DtypeWarning: Columns (102) have mixed types.Specify dtype option on import or set low_memory=False.\n",
      "  exec(code_obj, self.user_global_ns, self.user_ns)\n"
     ]
    }
   ],
   "source": [
    "import pandas as pd\n",
    "import numpy as np\n",
    "\n",
    "# submission from\n",
    "submission = pd.read_csv('submission1.csv')\n",
    "submission['cfips'] = submission['row_id'].map(lambda x: int(x.split('_')[0]))\n",
    "\n",
    "# get adult_population\n",
    "column_names = ['GEO_ID','NAME','S0101_C01_026E']\n",
    "df2021 = pd.read_csv('/kaggle/input/census-data-for-godaddy/ACSST5Y2021.S0101-Data.csv', usecols=column_names)\n",
    "df2021 = df2021.iloc[1:]\n",
    "df2021['S0101_C01_026E'] = df2021['S0101_C01_026E'].astype('int')\n",
    "df2021['cfips'] = df2021.GEO_ID.apply(lambda x: int(x.split('US')[-1]))\n",
    "adult2021 = df2021.set_index('cfips').S0101_C01_026E.to_dict()\n",
    "\n",
    "submission['adult2021'] = submission['cfips'].map(adult2021)\n",
    "\n",
    "# rounding to the nearest integer\n",
    "submission['microbusiness_density'] = (\n",
    "    np.round(submission['microbusiness_density'] * submission['adult2021'] / 100) / submission['adult2021'] * 100\n",
    ")\n",
    "\n",
    "submission[['row_id', 'microbusiness_density']].to_csv('submission.csv', index=False)"
   ]
  }
 ],
 "metadata": {
  "kernelspec": {
   "display_name": "Python 3",
   "language": "python",
   "name": "python3"
  },
  "language_info": {
   "codemirror_mode": {
    "name": "ipython",
    "version": 3
   },
   "file_extension": ".py",
   "mimetype": "text/x-python",
   "name": "python",
   "nbconvert_exporter": "python",
   "pygments_lexer": "ipython3",
   "version": "3.7.12"
  },
  "papermill": {
   "default_parameters": {},
   "duration": 591.519518,
   "end_time": "2023-03-14T06:30:44.296217",
   "environment_variables": {},
   "exception": null,
   "input_path": "__notebook__.ipynb",
   "output_path": "__notebook__.ipynb",
   "parameters": {},
   "start_time": "2023-03-14T06:20:52.776699",
   "version": "2.3.4"
  },
  "widgets": {
   "application/vnd.jupyter.widget-state+json": {
    "state": {
     "14e75a951213436b900af9488c97c140": {
      "model_module": "@jupyter-widgets/controls",
      "model_module_version": "1.5.0",
      "model_name": "FloatProgressModel",
      "state": {
       "_dom_classes": [],
       "_model_module": "@jupyter-widgets/controls",
       "_model_module_version": "1.5.0",
       "_model_name": "FloatProgressModel",
       "_view_count": null,
       "_view_module": "@jupyter-widgets/controls",
       "_view_module_version": "1.5.0",
       "_view_name": "ProgressView",
       "bar_style": "success",
       "description": "",
       "description_tooltip": null,
       "layout": "IPY_MODEL_1b3e39d5486444aa8e6657cfd94d0490",
       "max": 3135,
       "min": 0,
       "orientation": "horizontal",
       "style": "IPY_MODEL_2270d3312e444d81a4818f6932c82e1f",
       "value": 3135
      }
     },
     "1b3e39d5486444aa8e6657cfd94d0490": {
      "model_module": "@jupyter-widgets/base",
      "model_module_version": "1.2.0",
      "model_name": "LayoutModel",
      "state": {
       "_model_module": "@jupyter-widgets/base",
       "_model_module_version": "1.2.0",
       "_model_name": "LayoutModel",
       "_view_count": null,
       "_view_module": "@jupyter-widgets/base",
       "_view_module_version": "1.2.0",
       "_view_name": "LayoutView",
       "align_content": null,
       "align_items": null,
       "align_self": null,
       "border": null,
       "bottom": null,
       "display": null,
       "flex": null,
       "flex_flow": null,
       "grid_area": null,
       "grid_auto_columns": null,
       "grid_auto_flow": null,
       "grid_auto_rows": null,
       "grid_column": null,
       "grid_gap": null,
       "grid_row": null,
       "grid_template_areas": null,
       "grid_template_columns": null,
       "grid_template_rows": null,
       "height": null,
       "justify_content": null,
       "justify_items": null,
       "left": null,
       "margin": null,
       "max_height": null,
       "max_width": null,
       "min_height": null,
       "min_width": null,
       "object_fit": null,
       "object_position": null,
       "order": null,
       "overflow": null,
       "overflow_x": null,
       "overflow_y": null,
       "padding": null,
       "right": null,
       "top": null,
       "visibility": null,
       "width": null
      }
     },
     "2270d3312e444d81a4818f6932c82e1f": {
      "model_module": "@jupyter-widgets/controls",
      "model_module_version": "1.5.0",
      "model_name": "ProgressStyleModel",
      "state": {
       "_model_module": "@jupyter-widgets/controls",
       "_model_module_version": "1.5.0",
       "_model_name": "ProgressStyleModel",
       "_view_count": null,
       "_view_module": "@jupyter-widgets/base",
       "_view_module_version": "1.2.0",
       "_view_name": "StyleView",
       "bar_color": null,
       "description_width": ""
      }
     },
     "3c558ded9bd04e62a92fdbc71c905b1a": {
      "model_module": "@jupyter-widgets/base",
      "model_module_version": "1.2.0",
      "model_name": "LayoutModel",
      "state": {
       "_model_module": "@jupyter-widgets/base",
       "_model_module_version": "1.2.0",
       "_model_name": "LayoutModel",
       "_view_count": null,
       "_view_module": "@jupyter-widgets/base",
       "_view_module_version": "1.2.0",
       "_view_name": "LayoutView",
       "align_content": null,
       "align_items": null,
       "align_self": null,
       "border": null,
       "bottom": null,
       "display": null,
       "flex": null,
       "flex_flow": null,
       "grid_area": null,
       "grid_auto_columns": null,
       "grid_auto_flow": null,
       "grid_auto_rows": null,
       "grid_column": null,
       "grid_gap": null,
       "grid_row": null,
       "grid_template_areas": null,
       "grid_template_columns": null,
       "grid_template_rows": null,
       "height": null,
       "justify_content": null,
       "justify_items": null,
       "left": null,
       "margin": null,
       "max_height": null,
       "max_width": null,
       "min_height": null,
       "min_width": null,
       "object_fit": null,
       "object_position": null,
       "order": null,
       "overflow": null,
       "overflow_x": null,
       "overflow_y": null,
       "padding": null,
       "right": null,
       "top": null,
       "visibility": null,
       "width": null
      }
     },
     "3d7628d05f2e41929d7bdc2d24a6c352": {
      "model_module": "@jupyter-widgets/controls",
      "model_module_version": "1.5.0",
      "model_name": "DescriptionStyleModel",
      "state": {
       "_model_module": "@jupyter-widgets/controls",
       "_model_module_version": "1.5.0",
       "_model_name": "DescriptionStyleModel",
       "_view_count": null,
       "_view_module": "@jupyter-widgets/base",
       "_view_module_version": "1.2.0",
       "_view_name": "StyleView",
       "description_width": ""
      }
     },
     "65d0a87673f740afaa3f625ae3ae2f70": {
      "model_module": "@jupyter-widgets/controls",
      "model_module_version": "1.5.0",
      "model_name": "DescriptionStyleModel",
      "state": {
       "_model_module": "@jupyter-widgets/controls",
       "_model_module_version": "1.5.0",
       "_model_name": "DescriptionStyleModel",
       "_view_count": null,
       "_view_module": "@jupyter-widgets/base",
       "_view_module_version": "1.2.0",
       "_view_name": "StyleView",
       "description_width": ""
      }
     },
     "7555234a2bf440b382d0a79bbbeea943": {
      "model_module": "@jupyter-widgets/base",
      "model_module_version": "1.2.0",
      "model_name": "LayoutModel",
      "state": {
       "_model_module": "@jupyter-widgets/base",
       "_model_module_version": "1.2.0",
       "_model_name": "LayoutModel",
       "_view_count": null,
       "_view_module": "@jupyter-widgets/base",
       "_view_module_version": "1.2.0",
       "_view_name": "LayoutView",
       "align_content": null,
       "align_items": null,
       "align_self": null,
       "border": null,
       "bottom": null,
       "display": null,
       "flex": null,
       "flex_flow": null,
       "grid_area": null,
       "grid_auto_columns": null,
       "grid_auto_flow": null,
       "grid_auto_rows": null,
       "grid_column": null,
       "grid_gap": null,
       "grid_row": null,
       "grid_template_areas": null,
       "grid_template_columns": null,
       "grid_template_rows": null,
       "height": null,
       "justify_content": null,
       "justify_items": null,
       "left": null,
       "margin": null,
       "max_height": null,
       "max_width": null,
       "min_height": null,
       "min_width": null,
       "object_fit": null,
       "object_position": null,
       "order": null,
       "overflow": null,
       "overflow_x": null,
       "overflow_y": null,
       "padding": null,
       "right": null,
       "top": null,
       "visibility": null,
       "width": null
      }
     },
     "969267cf38074ebdbe1cf3638b5eb527": {
      "model_module": "@jupyter-widgets/controls",
      "model_module_version": "1.5.0",
      "model_name": "HBoxModel",
      "state": {
       "_dom_classes": [],
       "_model_module": "@jupyter-widgets/controls",
       "_model_module_version": "1.5.0",
       "_model_name": "HBoxModel",
       "_view_count": null,
       "_view_module": "@jupyter-widgets/controls",
       "_view_module_version": "1.5.0",
       "_view_name": "HBoxView",
       "box_style": "",
       "children": [
        "IPY_MODEL_edee6e05971d446683ae89294cdb8fdb",
        "IPY_MODEL_14e75a951213436b900af9488c97c140",
        "IPY_MODEL_a881775ec35a4d2ca1f136695b6dbf10"
       ],
       "layout": "IPY_MODEL_7555234a2bf440b382d0a79bbbeea943"
      }
     },
     "a881775ec35a4d2ca1f136695b6dbf10": {
      "model_module": "@jupyter-widgets/controls",
      "model_module_version": "1.5.0",
      "model_name": "HTMLModel",
      "state": {
       "_dom_classes": [],
       "_model_module": "@jupyter-widgets/controls",
       "_model_module_version": "1.5.0",
       "_model_name": "HTMLModel",
       "_view_count": null,
       "_view_module": "@jupyter-widgets/controls",
       "_view_module_version": "1.5.0",
       "_view_name": "HTMLView",
       "description": "",
       "description_tooltip": null,
       "layout": "IPY_MODEL_adf399f2af4f4175bcecb75cb98031db",
       "placeholder": "​",
       "style": "IPY_MODEL_3d7628d05f2e41929d7bdc2d24a6c352",
       "value": " 3135/3135 [00:05&lt;00:00, 539.14it/s]"
      }
     },
     "adf399f2af4f4175bcecb75cb98031db": {
      "model_module": "@jupyter-widgets/base",
      "model_module_version": "1.2.0",
      "model_name": "LayoutModel",
      "state": {
       "_model_module": "@jupyter-widgets/base",
       "_model_module_version": "1.2.0",
       "_model_name": "LayoutModel",
       "_view_count": null,
       "_view_module": "@jupyter-widgets/base",
       "_view_module_version": "1.2.0",
       "_view_name": "LayoutView",
       "align_content": null,
       "align_items": null,
       "align_self": null,
       "border": null,
       "bottom": null,
       "display": null,
       "flex": null,
       "flex_flow": null,
       "grid_area": null,
       "grid_auto_columns": null,
       "grid_auto_flow": null,
       "grid_auto_rows": null,
       "grid_column": null,
       "grid_gap": null,
       "grid_row": null,
       "grid_template_areas": null,
       "grid_template_columns": null,
       "grid_template_rows": null,
       "height": null,
       "justify_content": null,
       "justify_items": null,
       "left": null,
       "margin": null,
       "max_height": null,
       "max_width": null,
       "min_height": null,
       "min_width": null,
       "object_fit": null,
       "object_position": null,
       "order": null,
       "overflow": null,
       "overflow_x": null,
       "overflow_y": null,
       "padding": null,
       "right": null,
       "top": null,
       "visibility": null,
       "width": null
      }
     },
     "edee6e05971d446683ae89294cdb8fdb": {
      "model_module": "@jupyter-widgets/controls",
      "model_module_version": "1.5.0",
      "model_name": "HTMLModel",
      "state": {
       "_dom_classes": [],
       "_model_module": "@jupyter-widgets/controls",
       "_model_module_version": "1.5.0",
       "_model_name": "HTMLModel",
       "_view_count": null,
       "_view_module": "@jupyter-widgets/controls",
       "_view_module_version": "1.5.0",
       "_view_name": "HTMLView",
       "description": "",
       "description_tooltip": null,
       "layout": "IPY_MODEL_3c558ded9bd04e62a92fdbc71c905b1a",
       "placeholder": "​",
       "style": "IPY_MODEL_65d0a87673f740afaa3f625ae3ae2f70",
       "value": "100%"
      }
     }
    },
    "version_major": 2,
    "version_minor": 0
   }
  }
 },
 "nbformat": 4,
 "nbformat_minor": 5
}
